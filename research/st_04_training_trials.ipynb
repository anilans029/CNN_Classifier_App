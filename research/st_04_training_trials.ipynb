{
 "cells": [
  {
   "cell_type": "code",
   "execution_count": 1,
   "metadata": {},
   "outputs": [],
   "source": [
    "from collections import namedtuple\n",
    "import os\n",
    "import tqdm\n",
    "import tensorflow as tf\n",
    "os.chdir(\"../\")"
   ]
  },
  {
   "cell_type": "code",
   "execution_count": 2,
   "metadata": {},
   "outputs": [],
   "source": [
    "from collections import namedtuple\n",
    "from classifier_app.constants import *\n",
    "from classifier_app.utils import read_yaml,create_directories\n",
    "import os\n",
    "import urllib.request as request\n",
    "from zipfile import ZipFile"
   ]
  },
  {
   "cell_type": "code",
   "execution_count": 3,
   "metadata": {},
   "outputs": [],
   "source": [
    "from dataclasses import dataclass\n",
    "from pathlib import Path\n",
    "\n",
    "@dataclass(frozen=True)\n",
    "class TrainingConfig:\n",
    "    root_dir: Path\n",
    "    trained_model_path: Path\n",
    "    updated_base_model_path: Path\n",
    "    training_data: Path\n",
    "    params_epochs: int\n",
    "    params_batch_size:int\n",
    "    params_is_augmentation: bool\n",
    "    params_image_size: list\n",
    "\n",
    "@dataclass(frozen=True)\n",
    "class PrepareCallbacksconfig:\n",
    "    root_dir: Path\n",
    "    tensorboard_root_log_dir: Path\n",
    "    checkpoint_model_filepath: Path\n",
    "    early_stopping_checkpoint_filepath: Path\n"
   ]
  },
  {
   "cell_type": "code",
   "execution_count": 4,
   "metadata": {},
   "outputs": [],
   "source": [
    "from classifier_app.constants import *\n",
    "\n",
    "class ConfigurationManager:\n",
    "\n",
    "\n",
    "    def __init__(self, \n",
    "                    config_file_path = CONFIG_FILE_PATH,\n",
    "                    params_filepath = PARAMS_FILE_PATH):\n",
    "                    \n",
    "                    self.config = read_yaml(config_file_path)\n",
    "                    self.params = read_yaml(params_filepath)\n",
    "                    \n",
    "                    create_directories([Path(self.config.artifacts_root)])\n",
    "\n",
    "    def get_training_config(self)-> TrainingConfig:\n",
    "        config_training = self.config.training\n",
    "        config_model = self.config.prepare_Base_Model\n",
    "        training_data_path =os.path.join(self.config.data_ingestion.root_dir,\"PetImages\")\n",
    "\n",
    "        params = self.params        \n",
    "        create_directories([Path(config_training.root_dir)])\n",
    "\n",
    "        trainingConfig = TrainingConfig(\n",
    "                            root_dir=Path(config_training.root_dir),\n",
    "                            trained_model_path=Path(config_training.trained_model_path),\n",
    "                            updated_base_model_path = Path(config_model.updated_base_model_path),\n",
    "                            training_data = Path(training_data_path),\n",
    "                            params_epochs = self.params.EPOCHS,\n",
    "                            params_batch_size= self.params.BATCH_SIZE,\n",
    "                            params_is_augmentation= self.params.AUGMENTATION,\n",
    "                            params_image_size= self.params.IMAGE_SIZE\n",
    "                                )\n",
    "                                \n",
    "        return trainingConfig\n",
    "    \n",
    "    def get_prepareCallbackConfig(self)-> PrepareCallbacksconfig:\n",
    "        config = self.config.prepare_callbacks\n",
    "        params = self.params\n",
    "\n",
    "\n",
    "        # checkpoint_model_dir, _  =  os.path.split(config.checkpoint_model_filepath)\n",
    "        checkpoint_model_dir = os.path.dirname(config.checkpoint_model_filepath)\n",
    "        early_stopping_checkpoint_dir = os.path.dirname(config.early_stopping_checkpoint_filepath)\n",
    "\n",
    "        \n",
    "        create_directories([Path(config.root_dir), Path(config.tensorboard_root_log_dir),\n",
    "                            Path(checkpoint_model_dir),\n",
    "                            Path(early_stopping_checkpoint_dir)])\n",
    "        \n",
    "\n",
    "        prepareCallbacksconfig = PrepareCallbacksconfig(\n",
    "                                root_dir=Path(config.root_dir),\n",
    "                                tensorboard_root_log_dir=Path(config.tensorboard_root_log_dir),\n",
    "                                checkpoint_model_filepath=Path(config.checkpoint_model_filepath),\n",
    "                                early_stopping_checkpoint_filepath= Path(config.early_stopping_checkpoint_filepath)\n",
    "                                \n",
    "                                )\n",
    "                                \n",
    "        return prepareCallbacksconfig    "
   ]
  },
  {
   "cell_type": "code",
   "execution_count": null,
   "metadata": {},
   "outputs": [],
   "source": []
  },
  {
   "cell_type": "code",
   "execution_count": 5,
   "metadata": {},
   "outputs": [],
   "source": [
    "import tensorflow as tf\n",
    "import time\n",
    "\n",
    "class PrepareCallback:\n",
    "\n",
    "    def __init__(self, config: PrepareCallbacksconfig):\n",
    "        self.config = config\n",
    "\n",
    "    @property\n",
    "    def _create_tb_callbacks(self):\n",
    "        timestamp = time.strftime(\"%Y-%m-%d-%H-%M-%S\")\n",
    "        tb_running_log_dir = os.path.join(\n",
    "                                        self.config.tensorboard_root_log_dir,\n",
    "                                        f\"tb_logs_at_{timestamp}\"\n",
    "        )\n",
    "        print(tb_running_log_dir)                                \n",
    "        return tf.keras.callbacks.TensorBoard(log_dir=tb_running_log_dir)\n",
    "\n",
    "    @property\n",
    "    def _create_ckpt_callbacks(self):\n",
    "        return tf.keras.callbacks.ModelCheckpoint(\n",
    "            filepath=self.config.checkpoint_model_filepath,\n",
    "            save_best_only= True\n",
    "        )\n",
    "\n",
    "    @property\n",
    "    def _create_earlyStopping_callbacks(self):\n",
    "        return tf.keras.callbacks.EarlyStopping(\n",
    "            monitor= \"val_loss\",\n",
    "            min_delta= 0.001,\n",
    "            patience=8,\n",
    "            verbose = 0,\n",
    "            mode = \"auto\",\n",
    "            restore_best_weights=True            \n",
    "        )\n",
    "\n",
    "\n",
    "    def get_tb_ckpt_estopping_callbacks(self):\n",
    "        return [\n",
    "            self._create_tb_callbacks,\n",
    "            self._create_ckpt_callbacks,\n",
    "            self._create_earlyStopping_callbacks\n",
    "        ]\n",
    "\n"
   ]
  },
  {
   "cell_type": "code",
   "execution_count": 6,
   "metadata": {},
   "outputs": [],
   "source": [
    "from statistics import mode\n",
    "import tensorflow as tf\n",
    "import time\n",
    "\n",
    "class Training:\n",
    "\n",
    "    def __init__(self, config: TrainingConfig):\n",
    "        self.config = config\n",
    "\n",
    "    \n",
    "    def get_base_model(self):\n",
    "        self.model = tf.keras.models.load_model(filepath= self.config.updated_base_model_path)\n",
    "        \n",
    "\n",
    "    def train_Valid_generator(self):\n",
    "        \n",
    "        datagenerator_kargs = dict(\n",
    "                                rescale = 1/255.0\n",
    "\n",
    "                                )\n",
    "\n",
    "        dataflow_kwargs = dict(\n",
    "                            target_size = self.config.params_image_size[:-1],\n",
    "                            batch_size = self.config.params_batch_size,\n",
    "                            interpolation = \"bilinear\"\n",
    "                            )\n",
    "\n",
    "        valid_datagen = tf.keras.preprocessing.image.ImageDataGenerator(**datagenerator_kargs)\n",
    "\n",
    "        if self.config.params_is_augmentation:\n",
    "            train_datagen = tf.keras.preprocessing.image.ImageDataGenerator(\n",
    "                                    rotation_range= 20,\n",
    "                                    zoom_range= 0.20,\n",
    "                                    width_shift_range= 0.20,\n",
    "                                    height_shift_range= 0.20,\n",
    "                                    shear_range= 0.20,\n",
    "                                    horizontal_flip= True,\n",
    "                                    vertical_flip= True,\n",
    "                                    **datagenerator_kargs\n",
    "            )\n",
    "        else:\n",
    "            train_datagen = valid_datagen\n",
    "\n",
    "        self.train_generator = train_datagen.flow_from_directory(\n",
    "                            directory= self.config.training_data,\n",
    "                            subset= \"training\",\n",
    "                            shuffle= True,\n",
    "                            **dataflow_kwargs            \n",
    "                            )\n",
    "\n",
    "        self.valid_generator = valid_datagen.flow_from_directory(\n",
    "                                directory= self.config.training_data,\n",
    "                                shuffle= False,\n",
    "                                subset = \"validation\",\n",
    "                                **dataflow_kwargs\n",
    "                                )\n",
    "    @staticmethod\n",
    "    def save_model(path: Path, model: tf.keras.Model):\n",
    "        model.save(filepath= path)\n",
    "\n",
    "    def train(self, callbackList: list):\n",
    "        steps_per_epoch = self.train_generator.samples//self.train_generator.batch_size\n",
    "        validation_steps = self.valid_generator.samples// self.valid_generator.batch_size\n",
    "\n",
    "        self.model.fit(\n",
    "                    self.train_generator,\n",
    "                    validation_data = self.valid_generator,\n",
    "                    steps_per_epoch = steps_per_epoch,\n",
    "                    validation_steps = validation_steps,\n",
    "                    epochs= self.config.params_epochs,\n",
    "                    callbacks = callbackList\n",
    "        )\n",
    "\n",
    "        self.save_model(path = self.config.trained_model_path, model = self.model)   \n",
    "\n",
    "    "
   ]
  },
  {
   "cell_type": "code",
   "execution_count": 7,
   "metadata": {},
   "outputs": [
    {
     "name": "stdout",
     "output_type": "stream",
     "text": [
      "artifacts\\prepare_callbacks\\tensorboard_log_dir\\tb_logs_at_2022-10-29-01-42-05\n",
      "Found 24998 images belonging to 2 classes.\n",
      "Found 0 images belonging to 2 classes.\n"
     ]
    },
    {
     "ename": "UnknownError",
     "evalue": "Graph execution error:\n\nDetected at node 'model_2/block2_conv2/Relu' defined at (most recent call last):\n    File \"d:\\VS_projects\\CNN_Classifier_App\\env\\lib\\runpy.py\", line 192, in _run_module_as_main\n      return _run_code(code, main_globals, None,\n    File \"d:\\VS_projects\\CNN_Classifier_App\\env\\lib\\runpy.py\", line 85, in _run_code\n      exec(code, run_globals)\n    File \"d:\\VS_projects\\CNN_Classifier_App\\env\\lib\\site-packages\\ipykernel_launcher.py\", line 17, in <module>\n      app.launch_new_instance()\n    File \"d:\\VS_projects\\CNN_Classifier_App\\env\\lib\\site-packages\\traitlets\\config\\application.py\", line 982, in launch_instance\n      app.start()\n    File \"d:\\VS_projects\\CNN_Classifier_App\\env\\lib\\site-packages\\ipykernel\\kernelapp.py\", line 712, in start\n      self.io_loop.start()\n    File \"d:\\VS_projects\\CNN_Classifier_App\\env\\lib\\site-packages\\tornado\\platform\\asyncio.py\", line 215, in start\n      self.asyncio_loop.run_forever()\n    File \"d:\\VS_projects\\CNN_Classifier_App\\env\\lib\\asyncio\\base_events.py\", line 563, in run_forever\n      self._run_once()\n    File \"d:\\VS_projects\\CNN_Classifier_App\\env\\lib\\asyncio\\base_events.py\", line 1844, in _run_once\n      handle._run()\n    File \"d:\\VS_projects\\CNN_Classifier_App\\env\\lib\\asyncio\\events.py\", line 81, in _run\n      self._context.run(self._callback, *self._args)\n    File \"d:\\VS_projects\\CNN_Classifier_App\\env\\lib\\site-packages\\ipykernel\\kernelbase.py\", line 510, in dispatch_queue\n      await self.process_one()\n    File \"d:\\VS_projects\\CNN_Classifier_App\\env\\lib\\site-packages\\ipykernel\\kernelbase.py\", line 499, in process_one\n      await dispatch(*args)\n    File \"d:\\VS_projects\\CNN_Classifier_App\\env\\lib\\site-packages\\ipykernel\\kernelbase.py\", line 406, in dispatch_shell\n      await result\n    File \"d:\\VS_projects\\CNN_Classifier_App\\env\\lib\\site-packages\\ipykernel\\kernelbase.py\", line 730, in execute_request\n      reply_content = await reply_content\n    File \"d:\\VS_projects\\CNN_Classifier_App\\env\\lib\\site-packages\\ipykernel\\ipkernel.py\", line 383, in do_execute\n      res = shell.run_cell(\n    File \"d:\\VS_projects\\CNN_Classifier_App\\env\\lib\\site-packages\\ipykernel\\zmqshell.py\", line 528, in run_cell\n      return super().run_cell(*args, **kwargs)\n    File \"d:\\VS_projects\\CNN_Classifier_App\\env\\lib\\site-packages\\IPython\\core\\interactiveshell.py\", line 2885, in run_cell\n      result = self._run_cell(\n    File \"d:\\VS_projects\\CNN_Classifier_App\\env\\lib\\site-packages\\IPython\\core\\interactiveshell.py\", line 2940, in _run_cell\n      return runner(coro)\n    File \"d:\\VS_projects\\CNN_Classifier_App\\env\\lib\\site-packages\\IPython\\core\\async_helpers.py\", line 129, in _pseudo_sync_runner\n      coro.send(None)\n    File \"d:\\VS_projects\\CNN_Classifier_App\\env\\lib\\site-packages\\IPython\\core\\interactiveshell.py\", line 3139, in run_cell_async\n      has_raised = await self.run_ast_nodes(code_ast.body, cell_name,\n    File \"d:\\VS_projects\\CNN_Classifier_App\\env\\lib\\site-packages\\IPython\\core\\interactiveshell.py\", line 3318, in run_ast_nodes\n      if await self.run_code(code, result, async_=asy):\n    File \"d:\\VS_projects\\CNN_Classifier_App\\env\\lib\\site-packages\\IPython\\core\\interactiveshell.py\", line 3378, in run_code\n      exec(code_obj, self.user_global_ns, self.user_ns)\n    File \"C:\\Users\\anils\\AppData\\Local\\Temp\\ipykernel_6692\\1504891782.py\", line 11, in <module>\n      training.train(callbackList= callbacklist)\n    File \"C:\\Users\\anils\\AppData\\Local\\Temp\\ipykernel_6692\\1779196558.py\", line 65, in train\n      self.model.fit(\n    File \"d:\\VS_projects\\CNN_Classifier_App\\env\\lib\\site-packages\\keras\\utils\\traceback_utils.py\", line 65, in error_handler\n      return fn(*args, **kwargs)\n    File \"d:\\VS_projects\\CNN_Classifier_App\\env\\lib\\site-packages\\keras\\engine\\training.py\", line 1564, in fit\n      tmp_logs = self.train_function(iterator)\n    File \"d:\\VS_projects\\CNN_Classifier_App\\env\\lib\\site-packages\\keras\\engine\\training.py\", line 1160, in train_function\n      return step_function(self, iterator)\n    File \"d:\\VS_projects\\CNN_Classifier_App\\env\\lib\\site-packages\\keras\\engine\\training.py\", line 1146, in step_function\n      outputs = model.distribute_strategy.run(run_step, args=(data,))\n    File \"d:\\VS_projects\\CNN_Classifier_App\\env\\lib\\site-packages\\keras\\engine\\training.py\", line 1135, in run_step\n      outputs = model.train_step(data)\n    File \"d:\\VS_projects\\CNN_Classifier_App\\env\\lib\\site-packages\\keras\\engine\\training.py\", line 993, in train_step\n      y_pred = self(x, training=True)\n    File \"d:\\VS_projects\\CNN_Classifier_App\\env\\lib\\site-packages\\keras\\utils\\traceback_utils.py\", line 65, in error_handler\n      return fn(*args, **kwargs)\n    File \"d:\\VS_projects\\CNN_Classifier_App\\env\\lib\\site-packages\\keras\\engine\\training.py\", line 557, in __call__\n      return super().__call__(*args, **kwargs)\n    File \"d:\\VS_projects\\CNN_Classifier_App\\env\\lib\\site-packages\\keras\\utils\\traceback_utils.py\", line 65, in error_handler\n      return fn(*args, **kwargs)\n    File \"d:\\VS_projects\\CNN_Classifier_App\\env\\lib\\site-packages\\keras\\engine\\base_layer.py\", line 1097, in __call__\n      outputs = call_fn(inputs, *args, **kwargs)\n    File \"d:\\VS_projects\\CNN_Classifier_App\\env\\lib\\site-packages\\keras\\utils\\traceback_utils.py\", line 96, in error_handler\n      return fn(*args, **kwargs)\n    File \"d:\\VS_projects\\CNN_Classifier_App\\env\\lib\\site-packages\\keras\\engine\\functional.py\", line 510, in call\n      return self._run_internal_graph(inputs, training=training, mask=mask)\n    File \"d:\\VS_projects\\CNN_Classifier_App\\env\\lib\\site-packages\\keras\\engine\\functional.py\", line 667, in _run_internal_graph\n      outputs = node.layer(*args, **kwargs)\n    File \"d:\\VS_projects\\CNN_Classifier_App\\env\\lib\\site-packages\\keras\\utils\\traceback_utils.py\", line 65, in error_handler\n      return fn(*args, **kwargs)\n    File \"d:\\VS_projects\\CNN_Classifier_App\\env\\lib\\site-packages\\keras\\engine\\base_layer.py\", line 1097, in __call__\n      outputs = call_fn(inputs, *args, **kwargs)\n    File \"d:\\VS_projects\\CNN_Classifier_App\\env\\lib\\site-packages\\keras\\utils\\traceback_utils.py\", line 96, in error_handler\n      return fn(*args, **kwargs)\n    File \"d:\\VS_projects\\CNN_Classifier_App\\env\\lib\\site-packages\\keras\\layers\\convolutional\\base_conv.py\", line 314, in call\n      return self.activation(outputs)\n    File \"d:\\VS_projects\\CNN_Classifier_App\\env\\lib\\site-packages\\keras\\activations.py\", line 317, in relu\n      return backend.relu(\n    File \"d:\\VS_projects\\CNN_Classifier_App\\env\\lib\\site-packages\\keras\\backend.py\", line 5366, in relu\n      x = tf.nn.relu(x)\nNode: 'model_2/block2_conv2/Relu'\nCUDNN_STATUS_EXECUTION_FAILED\nin tensorflow/stream_executor/cuda/cuda_dnn.cc(4839): 'status'\n\t [[{{node model_2/block2_conv2/Relu}}]] [Op:__inference_train_function_1215]",
     "output_type": "error",
     "traceback": [
      "\u001b[1;31m---------------------------------------------------------------------------\u001b[0m",
      "\u001b[1;31mUnknownError\u001b[0m                              Traceback (most recent call last)",
      "Cell \u001b[1;32mIn [7], line 15\u001b[0m\n\u001b[0;32m     11\u001b[0m     training\u001b[39m.\u001b[39mtrain(callbackList\u001b[39m=\u001b[39m callbacklist)\n\u001b[0;32m     14\u001b[0m \u001b[39mexcept\u001b[39;00m \u001b[39mException\u001b[39;00m \u001b[39mas\u001b[39;00m e:\n\u001b[1;32m---> 15\u001b[0m     \u001b[39mraise\u001b[39;00m e\n",
      "Cell \u001b[1;32mIn [7], line 11\u001b[0m\n\u001b[0;32m      9\u001b[0m     training\u001b[39m.\u001b[39mget_base_model()\n\u001b[0;32m     10\u001b[0m     training\u001b[39m.\u001b[39mtrain_Valid_generator()\n\u001b[1;32m---> 11\u001b[0m     training\u001b[39m.\u001b[39;49mtrain(callbackList\u001b[39m=\u001b[39;49m callbacklist)\n\u001b[0;32m     14\u001b[0m \u001b[39mexcept\u001b[39;00m \u001b[39mException\u001b[39;00m \u001b[39mas\u001b[39;00m e:\n\u001b[0;32m     15\u001b[0m     \u001b[39mraise\u001b[39;00m e\n",
      "Cell \u001b[1;32mIn [6], line 65\u001b[0m, in \u001b[0;36mTraining.train\u001b[1;34m(self, callbackList)\u001b[0m\n\u001b[0;32m     62\u001b[0m steps_per_epoch \u001b[39m=\u001b[39m \u001b[39mself\u001b[39m\u001b[39m.\u001b[39mtrain_generator\u001b[39m.\u001b[39msamples\u001b[39m/\u001b[39m\u001b[39m/\u001b[39m\u001b[39mself\u001b[39m\u001b[39m.\u001b[39mtrain_generator\u001b[39m.\u001b[39mbatch_size\n\u001b[0;32m     63\u001b[0m validation_steps \u001b[39m=\u001b[39m \u001b[39mself\u001b[39m\u001b[39m.\u001b[39mvalid_generator\u001b[39m.\u001b[39msamples\u001b[39m/\u001b[39m\u001b[39m/\u001b[39m \u001b[39mself\u001b[39m\u001b[39m.\u001b[39mvalid_generator\u001b[39m.\u001b[39mbatch_size\n\u001b[1;32m---> 65\u001b[0m \u001b[39mself\u001b[39;49m\u001b[39m.\u001b[39;49mmodel\u001b[39m.\u001b[39;49mfit(\n\u001b[0;32m     66\u001b[0m             \u001b[39mself\u001b[39;49m\u001b[39m.\u001b[39;49mtrain_generator,\n\u001b[0;32m     67\u001b[0m             validation_data \u001b[39m=\u001b[39;49m \u001b[39mself\u001b[39;49m\u001b[39m.\u001b[39;49mvalid_generator,\n\u001b[0;32m     68\u001b[0m             steps_per_epoch \u001b[39m=\u001b[39;49m steps_per_epoch,\n\u001b[0;32m     69\u001b[0m             validation_steps \u001b[39m=\u001b[39;49m validation_steps,\n\u001b[0;32m     70\u001b[0m             epochs\u001b[39m=\u001b[39;49m \u001b[39mself\u001b[39;49m\u001b[39m.\u001b[39;49mconfig\u001b[39m.\u001b[39;49mparams_epochs,\n\u001b[0;32m     71\u001b[0m             callbacks \u001b[39m=\u001b[39;49m callbackList\n\u001b[0;32m     72\u001b[0m )\n\u001b[0;32m     74\u001b[0m \u001b[39mself\u001b[39m\u001b[39m.\u001b[39msave_model(path \u001b[39m=\u001b[39m \u001b[39mself\u001b[39m\u001b[39m.\u001b[39mconfig\u001b[39m.\u001b[39mtrained_model_path, model \u001b[39m=\u001b[39m \u001b[39mself\u001b[39m\u001b[39m.\u001b[39mmodel)\n",
      "File \u001b[1;32md:\\VS_projects\\CNN_Classifier_App\\env\\lib\\site-packages\\keras\\utils\\traceback_utils.py:70\u001b[0m, in \u001b[0;36mfilter_traceback.<locals>.error_handler\u001b[1;34m(*args, **kwargs)\u001b[0m\n\u001b[0;32m     67\u001b[0m     filtered_tb \u001b[39m=\u001b[39m _process_traceback_frames(e\u001b[39m.\u001b[39m__traceback__)\n\u001b[0;32m     68\u001b[0m     \u001b[39m# To get the full stack trace, call:\u001b[39;00m\n\u001b[0;32m     69\u001b[0m     \u001b[39m# `tf.debugging.disable_traceback_filtering()`\u001b[39;00m\n\u001b[1;32m---> 70\u001b[0m     \u001b[39mraise\u001b[39;00m e\u001b[39m.\u001b[39mwith_traceback(filtered_tb) \u001b[39mfrom\u001b[39;00m \u001b[39mNone\u001b[39m\n\u001b[0;32m     71\u001b[0m \u001b[39mfinally\u001b[39;00m:\n\u001b[0;32m     72\u001b[0m     \u001b[39mdel\u001b[39;00m filtered_tb\n",
      "File \u001b[1;32md:\\VS_projects\\CNN_Classifier_App\\env\\lib\\site-packages\\tensorflow\\python\\eager\\execute.py:54\u001b[0m, in \u001b[0;36mquick_execute\u001b[1;34m(op_name, num_outputs, inputs, attrs, ctx, name)\u001b[0m\n\u001b[0;32m     52\u001b[0m \u001b[39mtry\u001b[39;00m:\n\u001b[0;32m     53\u001b[0m   ctx\u001b[39m.\u001b[39mensure_initialized()\n\u001b[1;32m---> 54\u001b[0m   tensors \u001b[39m=\u001b[39m pywrap_tfe\u001b[39m.\u001b[39mTFE_Py_Execute(ctx\u001b[39m.\u001b[39m_handle, device_name, op_name,\n\u001b[0;32m     55\u001b[0m                                       inputs, attrs, num_outputs)\n\u001b[0;32m     56\u001b[0m \u001b[39mexcept\u001b[39;00m core\u001b[39m.\u001b[39m_NotOkStatusException \u001b[39mas\u001b[39;00m e:\n\u001b[0;32m     57\u001b[0m   \u001b[39mif\u001b[39;00m name \u001b[39mis\u001b[39;00m \u001b[39mnot\u001b[39;00m \u001b[39mNone\u001b[39;00m:\n",
      "\u001b[1;31mUnknownError\u001b[0m: Graph execution error:\n\nDetected at node 'model_2/block2_conv2/Relu' defined at (most recent call last):\n    File \"d:\\VS_projects\\CNN_Classifier_App\\env\\lib\\runpy.py\", line 192, in _run_module_as_main\n      return _run_code(code, main_globals, None,\n    File \"d:\\VS_projects\\CNN_Classifier_App\\env\\lib\\runpy.py\", line 85, in _run_code\n      exec(code, run_globals)\n    File \"d:\\VS_projects\\CNN_Classifier_App\\env\\lib\\site-packages\\ipykernel_launcher.py\", line 17, in <module>\n      app.launch_new_instance()\n    File \"d:\\VS_projects\\CNN_Classifier_App\\env\\lib\\site-packages\\traitlets\\config\\application.py\", line 982, in launch_instance\n      app.start()\n    File \"d:\\VS_projects\\CNN_Classifier_App\\env\\lib\\site-packages\\ipykernel\\kernelapp.py\", line 712, in start\n      self.io_loop.start()\n    File \"d:\\VS_projects\\CNN_Classifier_App\\env\\lib\\site-packages\\tornado\\platform\\asyncio.py\", line 215, in start\n      self.asyncio_loop.run_forever()\n    File \"d:\\VS_projects\\CNN_Classifier_App\\env\\lib\\asyncio\\base_events.py\", line 563, in run_forever\n      self._run_once()\n    File \"d:\\VS_projects\\CNN_Classifier_App\\env\\lib\\asyncio\\base_events.py\", line 1844, in _run_once\n      handle._run()\n    File \"d:\\VS_projects\\CNN_Classifier_App\\env\\lib\\asyncio\\events.py\", line 81, in _run\n      self._context.run(self._callback, *self._args)\n    File \"d:\\VS_projects\\CNN_Classifier_App\\env\\lib\\site-packages\\ipykernel\\kernelbase.py\", line 510, in dispatch_queue\n      await self.process_one()\n    File \"d:\\VS_projects\\CNN_Classifier_App\\env\\lib\\site-packages\\ipykernel\\kernelbase.py\", line 499, in process_one\n      await dispatch(*args)\n    File \"d:\\VS_projects\\CNN_Classifier_App\\env\\lib\\site-packages\\ipykernel\\kernelbase.py\", line 406, in dispatch_shell\n      await result\n    File \"d:\\VS_projects\\CNN_Classifier_App\\env\\lib\\site-packages\\ipykernel\\kernelbase.py\", line 730, in execute_request\n      reply_content = await reply_content\n    File \"d:\\VS_projects\\CNN_Classifier_App\\env\\lib\\site-packages\\ipykernel\\ipkernel.py\", line 383, in do_execute\n      res = shell.run_cell(\n    File \"d:\\VS_projects\\CNN_Classifier_App\\env\\lib\\site-packages\\ipykernel\\zmqshell.py\", line 528, in run_cell\n      return super().run_cell(*args, **kwargs)\n    File \"d:\\VS_projects\\CNN_Classifier_App\\env\\lib\\site-packages\\IPython\\core\\interactiveshell.py\", line 2885, in run_cell\n      result = self._run_cell(\n    File \"d:\\VS_projects\\CNN_Classifier_App\\env\\lib\\site-packages\\IPython\\core\\interactiveshell.py\", line 2940, in _run_cell\n      return runner(coro)\n    File \"d:\\VS_projects\\CNN_Classifier_App\\env\\lib\\site-packages\\IPython\\core\\async_helpers.py\", line 129, in _pseudo_sync_runner\n      coro.send(None)\n    File \"d:\\VS_projects\\CNN_Classifier_App\\env\\lib\\site-packages\\IPython\\core\\interactiveshell.py\", line 3139, in run_cell_async\n      has_raised = await self.run_ast_nodes(code_ast.body, cell_name,\n    File \"d:\\VS_projects\\CNN_Classifier_App\\env\\lib\\site-packages\\IPython\\core\\interactiveshell.py\", line 3318, in run_ast_nodes\n      if await self.run_code(code, result, async_=asy):\n    File \"d:\\VS_projects\\CNN_Classifier_App\\env\\lib\\site-packages\\IPython\\core\\interactiveshell.py\", line 3378, in run_code\n      exec(code_obj, self.user_global_ns, self.user_ns)\n    File \"C:\\Users\\anils\\AppData\\Local\\Temp\\ipykernel_6692\\1504891782.py\", line 11, in <module>\n      training.train(callbackList= callbacklist)\n    File \"C:\\Users\\anils\\AppData\\Local\\Temp\\ipykernel_6692\\1779196558.py\", line 65, in train\n      self.model.fit(\n    File \"d:\\VS_projects\\CNN_Classifier_App\\env\\lib\\site-packages\\keras\\utils\\traceback_utils.py\", line 65, in error_handler\n      return fn(*args, **kwargs)\n    File \"d:\\VS_projects\\CNN_Classifier_App\\env\\lib\\site-packages\\keras\\engine\\training.py\", line 1564, in fit\n      tmp_logs = self.train_function(iterator)\n    File \"d:\\VS_projects\\CNN_Classifier_App\\env\\lib\\site-packages\\keras\\engine\\training.py\", line 1160, in train_function\n      return step_function(self, iterator)\n    File \"d:\\VS_projects\\CNN_Classifier_App\\env\\lib\\site-packages\\keras\\engine\\training.py\", line 1146, in step_function\n      outputs = model.distribute_strategy.run(run_step, args=(data,))\n    File \"d:\\VS_projects\\CNN_Classifier_App\\env\\lib\\site-packages\\keras\\engine\\training.py\", line 1135, in run_step\n      outputs = model.train_step(data)\n    File \"d:\\VS_projects\\CNN_Classifier_App\\env\\lib\\site-packages\\keras\\engine\\training.py\", line 993, in train_step\n      y_pred = self(x, training=True)\n    File \"d:\\VS_projects\\CNN_Classifier_App\\env\\lib\\site-packages\\keras\\utils\\traceback_utils.py\", line 65, in error_handler\n      return fn(*args, **kwargs)\n    File \"d:\\VS_projects\\CNN_Classifier_App\\env\\lib\\site-packages\\keras\\engine\\training.py\", line 557, in __call__\n      return super().__call__(*args, **kwargs)\n    File \"d:\\VS_projects\\CNN_Classifier_App\\env\\lib\\site-packages\\keras\\utils\\traceback_utils.py\", line 65, in error_handler\n      return fn(*args, **kwargs)\n    File \"d:\\VS_projects\\CNN_Classifier_App\\env\\lib\\site-packages\\keras\\engine\\base_layer.py\", line 1097, in __call__\n      outputs = call_fn(inputs, *args, **kwargs)\n    File \"d:\\VS_projects\\CNN_Classifier_App\\env\\lib\\site-packages\\keras\\utils\\traceback_utils.py\", line 96, in error_handler\n      return fn(*args, **kwargs)\n    File \"d:\\VS_projects\\CNN_Classifier_App\\env\\lib\\site-packages\\keras\\engine\\functional.py\", line 510, in call\n      return self._run_internal_graph(inputs, training=training, mask=mask)\n    File \"d:\\VS_projects\\CNN_Classifier_App\\env\\lib\\site-packages\\keras\\engine\\functional.py\", line 667, in _run_internal_graph\n      outputs = node.layer(*args, **kwargs)\n    File \"d:\\VS_projects\\CNN_Classifier_App\\env\\lib\\site-packages\\keras\\utils\\traceback_utils.py\", line 65, in error_handler\n      return fn(*args, **kwargs)\n    File \"d:\\VS_projects\\CNN_Classifier_App\\env\\lib\\site-packages\\keras\\engine\\base_layer.py\", line 1097, in __call__\n      outputs = call_fn(inputs, *args, **kwargs)\n    File \"d:\\VS_projects\\CNN_Classifier_App\\env\\lib\\site-packages\\keras\\utils\\traceback_utils.py\", line 96, in error_handler\n      return fn(*args, **kwargs)\n    File \"d:\\VS_projects\\CNN_Classifier_App\\env\\lib\\site-packages\\keras\\layers\\convolutional\\base_conv.py\", line 314, in call\n      return self.activation(outputs)\n    File \"d:\\VS_projects\\CNN_Classifier_App\\env\\lib\\site-packages\\keras\\activations.py\", line 317, in relu\n      return backend.relu(\n    File \"d:\\VS_projects\\CNN_Classifier_App\\env\\lib\\site-packages\\keras\\backend.py\", line 5366, in relu\n      x = tf.nn.relu(x)\nNode: 'model_2/block2_conv2/Relu'\nCUDNN_STATUS_EXECUTION_FAILED\nin tensorflow/stream_executor/cuda/cuda_dnn.cc(4839): 'status'\n\t [[{{node model_2/block2_conv2/Relu}}]] [Op:__inference_train_function_1215]"
     ]
    }
   ],
   "source": [
    "try :\n",
    "\n",
    "    config = ConfigurationManager()\n",
    "    prepareCallbacks = PrepareCallback(config= config.get_prepareCallbackConfig())\n",
    "    callbacklist = prepareCallbacks.get_tb_ckpt_estopping_callbacks()\n",
    "\n",
    "\n",
    "    training = Training(config= config.get_training_config())\n",
    "    training.get_base_model()\n",
    "    training.train_Valid_generator()\n",
    "    training.train(callbackList= callbacklist)\n",
    "    \n",
    "\n",
    "except Exception as e:\n",
    "    raise e"
   ]
  },
  {
   "cell_type": "code",
   "execution_count": null,
   "metadata": {},
   "outputs": [
    {
     "data": {
      "text/plain": [
       "'2022-10-28-17-12-27'"
      ]
     },
     "execution_count": 36,
     "metadata": {},
     "output_type": "execute_result"
    }
   ],
   "source": [
    "import time\n",
    "\n",
    "time.strftime(\"%Y-%m-%d-%H-%M-%S\")"
   ]
  },
  {
   "cell_type": "code",
   "execution_count": null,
   "metadata": {},
   "outputs": [],
   "source": []
  },
  {
   "cell_type": "code",
   "execution_count": null,
   "metadata": {},
   "outputs": [],
   "source": []
  },
  {
   "cell_type": "code",
   "execution_count": null,
   "metadata": {},
   "outputs": [],
   "source": []
  },
  {
   "cell_type": "code",
   "execution_count": null,
   "metadata": {},
   "outputs": [],
   "source": []
  },
  {
   "cell_type": "code",
   "execution_count": null,
   "metadata": {},
   "outputs": [],
   "source": []
  },
  {
   "cell_type": "code",
   "execution_count": null,
   "metadata": {},
   "outputs": [],
   "source": []
  }
 ],
 "metadata": {
  "kernelspec": {
   "display_name": "Python 3.8.0 (conda)",
   "language": "python",
   "name": "python3"
  },
  "language_info": {
   "codemirror_mode": {
    "name": "ipython",
    "version": 3
   },
   "file_extension": ".py",
   "mimetype": "text/x-python",
   "name": "python",
   "nbconvert_exporter": "python",
   "pygments_lexer": "ipython3",
   "version": "3.8.0"
  },
  "orig_nbformat": 4,
  "vscode": {
   "interpreter": {
    "hash": "8925100b13e583de23ada91d6ea09b2a739054c4935e2fd53fb41bf72e838e92"
   }
  }
 },
 "nbformat": 4,
 "nbformat_minor": 2
}
