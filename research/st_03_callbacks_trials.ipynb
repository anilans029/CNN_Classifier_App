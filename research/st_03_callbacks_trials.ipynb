{
 "cells": [
  {
   "cell_type": "code",
   "execution_count": 1,
   "metadata": {},
   "outputs": [],
   "source": [
    "from collections import namedtuple\n",
    "import os\n",
    "import tqdm\n",
    "os.chdir(\"../\")"
   ]
  },
  {
   "cell_type": "code",
   "execution_count": 2,
   "metadata": {},
   "outputs": [],
   "source": [
    "from collections import namedtuple\n",
    "from classifier_app.constants import *\n",
    "from classifier_app.utils import read_yaml,create_directories\n",
    "import os\n",
    "import urllib.request as request\n",
    "from zipfile import ZipFile"
   ]
  },
  {
   "cell_type": "code",
   "execution_count": 3,
   "metadata": {},
   "outputs": [],
   "source": [
    "from dataclasses import dataclass\n",
    "from pathlib import Path\n",
    "\n",
    "@dataclass(frozen=True)\n",
    "class PrepareCallbacksconfig:\n",
    "    root_dir: Path\n",
    "    tensorboard_root_log_dir: Path\n",
    "    checkpoint_model_filepath: Path\n",
    "    early_stopping_checkpoint_filepath: Path"
   ]
  },
  {
   "cell_type": "code",
   "execution_count": 4,
   "metadata": {},
   "outputs": [],
   "source": [
    "\n",
    "\n",
    "class ConfigurationManager:\n",
    "\n",
    "\n",
    "    def __init__(self, \n",
    "                    config_file_path = CONFIG_FILE_PATH,\n",
    "                    params_filepath = PARAMS_FILE_PATH):\n",
    "                    \n",
    "                    self.config = read_yaml(config_file_path)\n",
    "                    self.params = read_yaml(params_filepath)\n",
    "                    \n",
    "                    create_directories([Path(self.config.artifacts_root)])\n",
    "\n",
    "    def get_prepareCallbackConfig(self)-> PrepareCallbacksconfig:\n",
    "        config = self.config.prepare_callbacks\n",
    "        params = self.params\n",
    "\n",
    "\n",
    "        # checkpoint_model_dir, _  =  os.path.split(config.checkpoint_model_filepath)\n",
    "        checkpoint_model_dir = os.path.dirname(config.checkpoint_model_filepath)\n",
    "        early_stopping_checkpoint_dir = os.path.dirname(config.early_stopping_checkpoint_filepath)\n",
    "\n",
    "        \n",
    "        create_directories([Path(config.root_dir), Path(config.tensorboard_root_log_dir),\n",
    "                            Path(checkpoint_model_dir),\n",
    "                            Path(early_stopping_checkpoint_dir)])\n",
    "        \n",
    "\n",
    "        prepareCallbacksconfig = PrepareCallbacksconfig(\n",
    "                                root_dir=Path(config.root_dir),\n",
    "                                tensorboard_root_log_dir=Path(config.tensorboard_root_log_dir),\n",
    "                                checkpoint_model_filepath=Path(config.checkpoint_model_filepath),\n",
    "                                early_stopping_checkpoint_filepath= Path(config.early_stopping_checkpoint_filepath)\n",
    "                                \n",
    "                                )\n",
    "                                \n",
    "        return prepareCallbacksconfig    "
   ]
  },
  {
   "cell_type": "code",
   "execution_count": 7,
   "metadata": {},
   "outputs": [],
   "source": [
    "import tensorflow as tf\n",
    "import time\n",
    "\n",
    "class PrepareCallback:\n",
    "\n",
    "    def __init__(self, config: PrepareCallbacksconfig):\n",
    "        self.config = config\n",
    "\n",
    "    @property\n",
    "    def _create_tb_callbacks(self):\n",
    "        timestamp = time.strftime(\"%Y-%m-%d-%H-%M-%S\")\n",
    "        tb_running_log_dir = os.path.join(\n",
    "                                        self.config.tensorboard_root_log_dir,\n",
    "                                        f\"tb_logs_at_{timestamp}\"\n",
    "        )\n",
    "        print(tb_running_log_dir)                                \n",
    "        return tf.keras.callbacks.TensorBoard(log_dir=tb_running_log_dir)\n",
    "\n",
    "    @property\n",
    "    def _create_ckpt_callbacks(self):\n",
    "        return tf.keras.callbacks.ModelCheckpoint(\n",
    "            filepath=self.config.checkpoint_model_filepath,\n",
    "            save_best_only= True\n",
    "        )\n",
    "\n",
    "    @property\n",
    "    def _create_earlyStopping_callbacks(self):\n",
    "        return tf.keras.callbacks.EarlyStopping(\n",
    "            monitor= \"val_loss\",\n",
    "            min_delta= 0.001,\n",
    "            patience=8,\n",
    "            verbose = 0,\n",
    "            mode = \"auto\",\n",
    "            restore_best_weights=True            \n",
    "        )\n",
    "\n",
    "\n",
    "    def get_tb_ckpt_estopping_callbacks(self):\n",
    "        return [\n",
    "            self._create_tb_callbacks,\n",
    "            self._create_ckpt_callbacks,\n",
    "            self._create_earlyStopping_callbacks\n",
    "        ]\n",
    "\n"
   ]
  },
  {
   "cell_type": "code",
   "execution_count": 8,
   "metadata": {},
   "outputs": [
    {
     "name": "stdout",
     "output_type": "stream",
     "text": [
      "artifacts\\prepare_callbacks\\tensorboard_log_dir\\tb_logs_at_2022-10-28-17-19-00\n"
     ]
    }
   ],
   "source": [
    "try :\n",
    "\n",
    "    config = ConfigurationManager()\n",
    "    prepareCallbacks = PrepareCallback(config= config.get_prepareCallbackConfig())\n",
    "    prepareCallbacks.get_tb_ckpt_estopping_callbacks()\n",
    "\n",
    "except Exception as e:\n",
    "    raise e"
   ]
  },
  {
   "cell_type": "code",
   "execution_count": null,
   "metadata": {},
   "outputs": [
    {
     "data": {
      "text/plain": [
       "'2022-10-28-17-12-27'"
      ]
     },
     "execution_count": 36,
     "metadata": {},
     "output_type": "execute_result"
    }
   ],
   "source": [
    "import time\n",
    "\n",
    "time.strftime(\"%Y-%m-%d-%H-%M-%S\")"
   ]
  },
  {
   "cell_type": "code",
   "execution_count": null,
   "metadata": {},
   "outputs": [],
   "source": []
  },
  {
   "cell_type": "code",
   "execution_count": null,
   "metadata": {},
   "outputs": [],
   "source": []
  },
  {
   "cell_type": "code",
   "execution_count": null,
   "metadata": {},
   "outputs": [],
   "source": []
  },
  {
   "cell_type": "code",
   "execution_count": null,
   "metadata": {},
   "outputs": [],
   "source": []
  },
  {
   "cell_type": "code",
   "execution_count": null,
   "metadata": {},
   "outputs": [],
   "source": []
  },
  {
   "cell_type": "code",
   "execution_count": null,
   "metadata": {},
   "outputs": [],
   "source": []
  }
 ],
 "metadata": {
  "kernelspec": {
   "display_name": "Python 3.8.0 (conda)",
   "language": "python",
   "name": "python3"
  },
  "language_info": {
   "codemirror_mode": {
    "name": "ipython",
    "version": 3
   },
   "file_extension": ".py",
   "mimetype": "text/x-python",
   "name": "python",
   "nbconvert_exporter": "python",
   "pygments_lexer": "ipython3",
   "version": "3.8.0"
  },
  "orig_nbformat": 4,
  "vscode": {
   "interpreter": {
    "hash": "8925100b13e583de23ada91d6ea09b2a739054c4935e2fd53fb41bf72e838e92"
   }
  }
 },
 "nbformat": 4,
 "nbformat_minor": 2
}
