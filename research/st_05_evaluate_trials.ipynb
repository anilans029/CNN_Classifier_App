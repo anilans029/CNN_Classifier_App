{
 "cells": [
  {
   "cell_type": "code",
   "execution_count": 2,
   "metadata": {},
   "outputs": [],
   "source": [
    "import os\n",
    "os.chdir(\"../\")"
   ]
  },
  {
   "cell_type": "code",
   "execution_count": 3,
   "metadata": {},
   "outputs": [],
   "source": [
    "from os import read\n",
    "from classifier_app.utils import read_yaml, create_directories, save_json\n",
    "from pathlib import Path\n",
    "from classifier_app.constants import *\n",
    "\n",
    "\n",
    "config = read_yaml(Path(\"configs/config.yaml\"))\n",
    "evaluation_config = config.evaluation\n",
    "\n"
   ]
  },
  {
   "cell_type": "code",
   "execution_count": 4,
   "metadata": {},
   "outputs": [],
   "source": [
    "import tensorflow as tf\n",
    "\n",
    "\n",
    "\n",
    "evaluation_config\n",
    "model = tf.keras.models.load_model(evaluation_config.trained_model_path)\n"
   ]
  },
  {
   "cell_type": "code",
   "execution_count": null,
   "metadata": {},
   "outputs": [],
   "source": []
  },
  {
   "cell_type": "code",
   "execution_count": 5,
   "metadata": {},
   "outputs": [],
   "source": [
    "### entity\n",
    "\n",
    "from dataclasses import dataclass\n",
    "\n",
    "\n",
    "@dataclass\n",
    "class EvaluateConfig:\n",
    "    trained_model_path: Path\n",
    "    root_dir: Path\n",
    "    test_data_path: Path\n",
    "    params_target_size: list\n",
    "    params_batch_size: int\n",
    "    params_interpolation : str\n",
    "\n",
    "   \n",
    "\n"
   ]
  },
  {
   "cell_type": "code",
   "execution_count": 6,
   "metadata": {},
   "outputs": [],
   "source": [
    "## configuration manager\n",
    "\n",
    "from classifier_app.constants import *\n",
    "\n",
    "class ConfigurationManager:\n",
    "\n",
    "    def __init__(\n",
    "        self, \n",
    "        config_filepath = CONFIG_FILE_PATH,\n",
    "        params_filepath = PARAMS_FILE_PATH):\n",
    "        self.config = read_yaml(config_filepath)\n",
    "        self.params = read_yaml(params_filepath)\n",
    "        create_directories([self.config.artifacts_root])\n",
    "    \n",
    "\n",
    "    def get_evaluation_config(self):\n",
    "        evaluation_config = self.config.evaluation\n",
    "        \n",
    "        evaluation_config = EvaluateConfig(\n",
    "                                trained_model_path= evaluation_config.trained_model_path,\n",
    "                                root_dir= evaluation_config.root_dir,\n",
    "                                test_data_path= Path(os.path.join(self.config.data_ingestion.split_data, self.config.data_ingestion.test_dir_name)),\n",
    "                                params_target_size= self.params.IMAGE_SIZE[:-1],\n",
    "                                params_batch_size= self.params.BATCH_SIZE,\n",
    "                                params_interpolation= self.params.INTERPOLATION\n",
    "        )\n",
    "\n",
    "        return evaluation_config\n"
   ]
  },
  {
   "cell_type": "code",
   "execution_count": 7,
   "metadata": {},
   "outputs": [],
   "source": [
    "class Evaluate_Model:\n",
    "\n",
    "    def __init__(self, config: EvaluateConfig):\n",
    "        self.config = config\n",
    "        print(self.config)\n",
    "    \n",
    "    def _load_model(self):\n",
    "        self.model  = tf.keras.models.load_model(self.config.trained_model_path)\n",
    "\n",
    "    def _test_generator(self):\n",
    "\n",
    "        test_datagen = tf.keras.preprocessing.image.ImageDataGenerator(\n",
    "                            rescale= 1/255.0\n",
    "        )\n",
    "\n",
    "        test_generator = test_datagen.flow_from_directory(\n",
    "                                directory= self.config.test_data_path,\n",
    "                                target_size= self.config.params_target_size,\n",
    "                                interpolation= self.config.params_interpolation,\n",
    "                                batch_size= self.config.params_batch_size\n",
    "        )\n",
    "        return test_generator\n",
    "\n",
    "    def evaluateModel(self):\n",
    "        self._load_model()\n",
    "        test_generator = self._test_generator()\n",
    "        self.score  = self.model.evaluate(test_generator)\n",
    "        return self.score\n",
    "\n",
    "    def save_score(self):\n",
    "        score_path = Path(\"scores.json\")\n",
    "        save_json(path_to_save=score_path, data= self.score)\n",
    "    \n",
    "            \n",
    "        "
   ]
  },
  {
   "cell_type": "code",
   "execution_count": 8,
   "metadata": {},
   "outputs": [
    {
     "name": "stdout",
     "output_type": "stream",
     "text": [
      "EvaluateConfig(trained_model_path='artifacts/training/model.h5', root_dir='artifacts/evaluation', test_data_path=WindowsPath('artifacts/data_ingestion/splitted_data/test'), params_target_size=[224, 224], params_batch_size=8, params_interpolation='bilinear')\n",
      "Found 7500 images belonging to 2 classes.\n",
      " 21/938 [..............................] - ETA: 26:40 - loss: 2.1077 - accuracy: 0.8512"
     ]
    }
   ],
   "source": [
    "## pipeline\n",
    "\n",
    "\n",
    "try:\n",
    "    config = ConfigurationManager()\n",
    "    evaluate_config = config.get_evaluation_config()\n",
    "    evaluation = Evaluate_Model(config=evaluate_config)\n",
    "    score = evaluation.evaluateModel()\n",
    "    \n",
    "\n",
    "except Exception as e:\n",
    "    raise e"
   ]
  },
  {
   "cell_type": "code",
   "execution_count": null,
   "metadata": {},
   "outputs": [],
   "source": [
    "print(score)\n",
    "# evaluation.save_score()"
   ]
  }
 ],
 "metadata": {
  "kernelspec": {
   "display_name": "Python 3.8.0 (conda)",
   "language": "python",
   "name": "python3"
  },
  "language_info": {
   "codemirror_mode": {
    "name": "ipython",
    "version": 3
   },
   "file_extension": ".py",
   "mimetype": "text/x-python",
   "name": "python",
   "nbconvert_exporter": "python",
   "pygments_lexer": "ipython3",
   "version": "3.8.0"
  },
  "orig_nbformat": 4,
  "vscode": {
   "interpreter": {
    "hash": "8925100b13e583de23ada91d6ea09b2a739054c4935e2fd53fb41bf72e838e92"
   }
  }
 },
 "nbformat": 4,
 "nbformat_minor": 2
}
