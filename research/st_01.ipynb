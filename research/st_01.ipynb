{
 "cells": [
  {
   "cell_type": "code",
   "execution_count": 1,
   "metadata": {},
   "outputs": [],
   "source": [
    "from collections import namedtuple\n",
    "import os\n",
    "import tqdm\n",
    "os.chdir(\"../\")"
   ]
  },
  {
   "cell_type": "markdown",
   "metadata": {},
   "source": [
    "## workflow for data ingestion component"
   ]
  },
  {
   "cell_type": "code",
   "execution_count": null,
   "metadata": {},
   "outputs": [],
   "source": []
  },
  {
   "cell_type": "markdown",
   "metadata": {},
   "source": [
    "### 1. update the entity"
   ]
  },
  {
   "cell_type": "code",
   "execution_count": 2,
   "metadata": {},
   "outputs": [],
   "source": [
    "from collections import namedtuple\n",
    "from classifier_app.constants import *\n",
    "from classifier_app.utils import read_yaml,create_directories\n",
    "import os\n",
    "import urllib.request as request\n",
    "from zipfile import ZipFile"
   ]
  },
  {
   "cell_type": "code",
   "execution_count": 3,
   "metadata": {},
   "outputs": [],
   "source": [
    "DataIngestionConfig = namedtuple(\"DataIngestionConfig\",[\n",
    "                            \"root_dir\",\n",
    "                            \"soruce_url\",\n",
    "                            \"local_data_file\",\n",
    "                            \"unzip_dir\"\n",
    "])"
   ]
  },
  {
   "cell_type": "markdown",
   "metadata": {},
   "source": [
    "### update the configuration class"
   ]
  },
  {
   "cell_type": "code",
   "execution_count": 4,
   "metadata": {},
   "outputs": [],
   "source": [
    "class ConfigurationManager:\n",
    "\n",
    "\n",
    "    def __init__(self, \n",
    "                    config_file_path = CONFIG_FILE_PATH,\n",
    "                    params_filepath = PARAMS_FILE_PATH):\n",
    "                    \n",
    "                    self.config = read_yaml(config_file_path)\n",
    "                    self.params = read_yaml(params_filepath)\n",
    "                    \n",
    "                    create_directories([self.config.artifacts_root])\n",
    "\n",
    "    def get_data_ingestion_config(self)-> DataIngestionConfig:\n",
    "        config = self.config.data_ingestion\n",
    "\n",
    "        create_directories([config.root_dir])\n",
    "\n",
    "        data_ingestion_config = DataIngestionConfig(\n",
    "                                root_dir=config.root_dir,\n",
    "                                soruce_url=config.source_url,\n",
    "                                local_data_file = config.local_data_file,\n",
    "                                unzip_dir=config.unzip_dir\n",
    "        )\n",
    "        return data_ingestion_config"
   ]
  },
  {
   "cell_type": "markdown",
   "metadata": {},
   "source": [
    "### update the DataIngestion component"
   ]
  },
  {
   "cell_type": "code",
   "execution_count": 5,
   "metadata": {},
   "outputs": [],
   "source": [
    "from fileinput import filename\n",
    "import zipfile\n",
    "\n",
    "\n",
    "class DataIngestion:\n",
    "\n",
    "    def __init__(self, config: DataIngestionConfig):\n",
    "\n",
    "        self.config = config\n",
    "        print(config)\n",
    "\n",
    "    def download_file(self):\n",
    "        if not os.path.exists(self.config.local_data_file):\n",
    "            filename, headers = request.urlretrieve(self.config.soruce_url,\n",
    "                                filename=self.config.local_data_file)\n",
    "    def _get_updated_list_of_file(self,list_of_files):\n",
    "            return [f for f in list_of_files if f.endswith(\".jpg\") and (\"Dog\" in f or \"Cat\" in f) ]\n",
    "\n",
    "    def _preprocess(self, zf: ZipFile, f: str, working_dir: str):\n",
    "        target_filepath = os.path.join(working_dir, f)\n",
    "        \n",
    "        ## checking for the file is present in the working directory or not\n",
    "        if not os.path.exists(target_filepath):\n",
    "            zf.extract(f, working_dir)\n",
    "\n",
    "        ## checking whether the file is of size 0 KB\n",
    "        if os.path.getsize(target_filepath)==0:\n",
    "            os.remove(target_filepath)\n",
    "\n",
    "    def unzip_and_clean(self, ):\n",
    "        with ZipFile(file = self.config.local_data_file,mode = \"r\") as zf:\n",
    "                list_of_files = zf.namelist()   \n",
    "                updated_list_of_files = self._get_updated_list_of_file(list_of_files)\n",
    "\n",
    "                ## preprocessing\n",
    "                for f in updated_list_of_files:\n",
    "                    self._preprocess(zf, f,self.config.unzip_dir)"
   ]
  },
  {
   "cell_type": "markdown",
   "metadata": {},
   "source": [
    "### update the pipeline (here i am just checking the data ingestion compnent)"
   ]
  },
  {
   "cell_type": "code",
   "execution_count": 6,
   "metadata": {},
   "outputs": [
    {
     "name": "stdout",
     "output_type": "stream",
     "text": [
      "{'artifacts_root': 'artifacts', 'data_ingestion': {'root_dir': 'artifacts/data_ingestion', 'source_url': 'https://download.microsoft.com/download/3/E/1/3E1C3F21-ECDB-4869-8368-6DEBA77B919F/kagglecatsanddogs_5340.zip', 'local_data_file': 'artifacts/data_ingestion/data.zip', 'unzip_dir': 'artifacts/data_ingestion'}}\n",
      "{'key': 'value'}\n",
      "[2022-10-26 19:58:09,175: INFO: common:] Created the directory at : artifacts\n",
      "[2022-10-26 19:58:09,178: INFO: common:] Created the directory at : artifacts/data_ingestion\n",
      "DataIngestionConfig(root_dir='artifacts/data_ingestion', soruce_url='https://download.microsoft.com/download/3/E/1/3E1C3F21-ECDB-4869-8368-6DEBA77B919F/kagglecatsanddogs_5340.zip', local_data_file='artifacts/data_ingestion/data.zip', unzip_dir='artifacts/data_ingestion')\n",
      "<__main__.DataIngestion object at 0x000001DB32F674F0>\n"
     ]
    }
   ],
   "source": [
    "config = ConfigurationManager()\n",
    "data_ingestion_config = config.get_data_ingestion_config()\n",
    "data_ingestion = DataIngestion(config=data_ingestion_config)\n",
    "print(data_ingestion)\n",
    "data_ingestion.download_file()\n",
    "data_ingestion.unzip_and_clean()"
   ]
  },
  {
   "cell_type": "code",
   "execution_count": 9,
   "metadata": {},
   "outputs": [
    {
     "name": "stdout",
     "output_type": "stream",
     "text": [
      "['PetImages/Cat/', 'PetImages/Cat/0.jpg', 'PetImages/Cat/1.jpg', 'PetImages/Cat/10.jpg', 'PetImages/Cat/100.jpg', 'PetImages/Cat/1000.jpg', 'PetImages/Cat/10000.jpg', 'PetImages/Cat/10001.jpg', 'PetImages/Cat/10002.jpg', 'PetImages/Cat/10003.jpg', 'PetImages/Cat/10004.jpg', 'PetImages/Cat/10005.jpg', 'PetImages/Cat/10006.jpg', 'PetImages/Cat/10007.jpg', 'PetImages/Cat/10008.jpg', 'PetImages/Cat/10009.jpg', 'PetImages/Cat/1001.jpg', 'PetImages/Cat/10010.jpg', 'PetImages/Cat/10011.jpg', 'PetImages/Cat/10012.jpg', 'PetImages/Cat/10013.jpg', 'PetImages/Cat/10014.jpg', 'PetImages/Cat/10015.jpg', 'PetImages/Cat/10016.jpg', 'PetImages/Cat/10017.jpg', 'PetImages/Cat/10018.jpg', 'PetImages/Cat/10019.jpg', 'PetImages/Cat/1002.jpg', 'PetImages/Cat/10020.jpg', 'PetImages/Cat/10021.jpg', 'PetImages/Cat/10022.jpg', 'PetImages/Cat/10023.jpg', 'PetImages/Cat/10024.jpg', 'PetImages/Cat/10025.jpg', 'PetImages/Cat/10026.jpg', 'PetImages/Cat/10027.jpg', 'PetImages/Cat/10028.jpg', 'PetImages/Cat/10029.jpg', 'PetImages/Cat/1003.jpg', 'PetImages/Cat/10030.jpg', 'PetImages/Cat/10031.jpg', 'PetImages/Cat/10032.jpg', 'PetImages/Cat/10033.jpg', 'PetImages/Cat/10034.jpg', 'PetImages/Cat/10035.jpg', 'PetImages/Cat/10036.jpg', 'PetImages/Cat/10037.jpg', 'PetImages/Cat/10038.jpg', 'PetImages/Cat/10039.jpg', 'PetImages/Cat/1004.jpg']\n"
     ]
    }
   ],
   "source": [
    "\"\"\"here we can see the zf.namelist() fun return the list of all the files present in the zip file and then we are using this list to \n",
    "remove the exclude the file names whose names not endswith .jpg and names dont contain the Dog or Cat in their names\"\"\"\n",
    "\n",
    "with ZipFile(\"artifacts\\data_ingestion\\data.zip\",mode = \"r\") as zf:\n",
    "    print(zf.namelist()[:50])"
   ]
  },
  {
   "cell_type": "code",
   "execution_count": null,
   "metadata": {},
   "outputs": [],
   "source": []
  }
 ],
 "metadata": {
  "kernelspec": {
   "display_name": "Python 3.8.0 (conda)",
   "language": "python",
   "name": "python3"
  },
  "language_info": {
   "codemirror_mode": {
    "name": "ipython",
    "version": 3
   },
   "file_extension": ".py",
   "mimetype": "text/x-python",
   "name": "python",
   "nbconvert_exporter": "python",
   "pygments_lexer": "ipython3",
   "version": "3.8.0"
  },
  "orig_nbformat": 4,
  "vscode": {
   "interpreter": {
    "hash": "8925100b13e583de23ada91d6ea09b2a739054c4935e2fd53fb41bf72e838e92"
   }
  }
 },
 "nbformat": 4,
 "nbformat_minor": 2
}
